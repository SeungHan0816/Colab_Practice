{
  "nbformat": 4,
  "nbformat_minor": 0,
  "metadata": {
    "colab": {
      "provenance": [],
      "gpuType": "T4",
      "collapsed_sections": [
        "-eomvW75v7Lx"
      ],
      "authorship_tag": "ABX9TyMoyYqw4/gfsXCrpgj7pB66",
      "include_colab_link": true
    },
    "kernelspec": {
      "name": "python3",
      "display_name": "Python 3"
    },
    "language_info": {
      "name": "python"
    },
    "accelerator": "GPU"
  },
  "cells": [
    {
      "cell_type": "markdown",
      "metadata": {
        "id": "view-in-github",
        "colab_type": "text"
      },
      "source": [
        "<a href=\"https://colab.research.google.com/github/SeungHan0816/Colab_Practice/blob/main/Colab_Practice02.ipynb\" target=\"_parent\"><img src=\"https://colab.research.google.com/assets/colab-badge.svg\" alt=\"Open In Colab\"/></a>"
      ]
    },
    {
      "cell_type": "markdown",
      "source": [
        "# 02-02 텐서 조작하기"
      ],
      "metadata": {
        "id": "zWgYbnhfRcvF"
      }
    },
    {
      "cell_type": "code",
      "execution_count": 41,
      "metadata": {
        "id": "9Guj8LChRZO0",
        "colab": {
          "base_uri": "https://localhost:8080/"
        },
        "outputId": "61e51e3d-d9a5-47d3-c290-b1613bcdecff"
      },
      "outputs": [
        {
          "output_type": "stream",
          "name": "stdout",
          "text": [
            "[0. 1. 2. 3. 4. 5. 6.]\n",
            "Rank of t:  1\n",
            "Shape of t:  (7,)\n"
          ]
        }
      ],
      "source": [
        "import numpy as np\n",
        "t = np.array([0., 1., 2., 3., 4., 5., 6.])\n",
        "print(t)\n",
        "print('Rank of t: ', t.ndim)\n",
        "print('Shape of t: ', t.shape)"
      ]
    },
    {
      "cell_type": "code",
      "source": [
        "import numpy as np\n",
        "t = np.array([0., 1., 2., 3., 4., 5., 6.])\n",
        "print('t[0] t[1] t[-1] = ', t[0], t[1], t[-1])\n",
        "print('t[2:5] t[4:-1]  = ', t[2:5], t[4:-1])\n",
        "print('t[:2] t[3:]     = ', t[:2], t[3:])"
      ],
      "metadata": {
        "colab": {
          "base_uri": "https://localhost:8080/"
        },
        "id": "TTZw-qNAEBvH",
        "outputId": "efafa51b-58d0-4e2d-9fcd-f556e664834f"
      },
      "execution_count": 42,
      "outputs": [
        {
          "output_type": "stream",
          "name": "stdout",
          "text": [
            "t[0] t[1] t[-1] =  0.0 1.0 6.0\n",
            "t[2:5] t[4:-1]  =  [2. 3. 4.] [4. 5.]\n",
            "t[:2] t[3:]     =  [0. 1.] [3. 4. 5. 6.]\n"
          ]
        }
      ]
    },
    {
      "cell_type": "markdown",
      "source": [
        "# 파이토치 텐서 선언하기"
      ],
      "metadata": {
        "id": "TexraLKSE1d_"
      }
    },
    {
      "cell_type": "code",
      "source": [
        "import torch\n",
        "t = torch.FloatTensor([0., 1., 2., 3., 4., 5., 6.])\n",
        "print(t)\n",
        "print(t.dim())\n",
        "print(t.shape)\n",
        "print(t.size())\n",
        "print(t[0], t[1], t[-1])\n",
        "print(t[2:5], t[4:-1])\n",
        "print(t[:2], t[3:])"
      ],
      "metadata": {
        "colab": {
          "base_uri": "https://localhost:8080/"
        },
        "id": "tkHFzTdkE33n",
        "outputId": "3f8141e5-1286-49e4-c457-a57a55eceb6e"
      },
      "execution_count": 44,
      "outputs": [
        {
          "output_type": "stream",
          "name": "stdout",
          "text": [
            "tensor([0., 1., 2., 3., 4., 5., 6.])\n",
            "1\n",
            "torch.Size([7])\n",
            "torch.Size([7])\n",
            "tensor(0.) tensor(1.) tensor(6.)\n",
            "tensor([2., 3., 4.]) tensor([4., 5.])\n",
            "tensor([0., 1.]) tensor([3., 4., 5., 6.])\n"
          ]
        }
      ]
    },
    {
      "cell_type": "code",
      "source": [
        "import torch\n",
        "t = torch.FloatTensor([[1., 2., 3.],\n",
        "                      [4., 5., 6.,],\n",
        "                      [7., 8., 9.,],\n",
        "                      [10., 11., 12.,]\n",
        "                      ])\n",
        "print(t)\n",
        "print(t.dim())\n",
        "print(t.size())\n",
        "print(t[:,1])\n",
        "print(t[:,1].size())\n",
        "print(t[:, :-1])"
      ],
      "metadata": {
        "colab": {
          "base_uri": "https://localhost:8080/"
        },
        "id": "lXyn4ce8IfN4",
        "outputId": "77fd210d-d900-4b13-ef8f-c29514aed089"
      },
      "execution_count": 45,
      "outputs": [
        {
          "output_type": "stream",
          "name": "stdout",
          "text": [
            "tensor([[ 1.,  2.,  3.],\n",
            "        [ 4.,  5.,  6.],\n",
            "        [ 7.,  8.,  9.],\n",
            "        [10., 11., 12.]])\n",
            "2\n",
            "torch.Size([4, 3])\n",
            "tensor([ 2.,  5.,  8., 11.])\n",
            "torch.Size([4])\n",
            "tensor([[ 1.,  2.],\n",
            "        [ 4.,  5.],\n",
            "        [ 7.,  8.],\n",
            "        [10., 11.]])\n"
          ]
        }
      ]
    },
    {
      "cell_type": "code",
      "source": [
        "import torch\n",
        "m1 = torch.FloatTensor([[3, 3]])\n",
        "m2 = torch.FloatTensor([[2, 2]])\n",
        "print(m1 + m2) #파이토치에서는 브로드캐스팅을 통해 연산 가능"
      ],
      "metadata": {
        "colab": {
          "base_uri": "https://localhost:8080/"
        },
        "id": "FVKd1W6_WWj_",
        "outputId": "1bf2691e-f826-4c73-d9dd-726f8a94ad8a"
      },
      "execution_count": 46,
      "outputs": [
        {
          "output_type": "stream",
          "name": "stdout",
          "text": [
            "tensor([[5., 5.]])\n"
          ]
        }
      ]
    },
    {
      "cell_type": "code",
      "source": [
        "import torch\n",
        "m1 = torch.FloatTensor([[1, 2]])\n",
        "m2 = torch.FloatTensor([3])\n",
        "print(m1 + m2)"
      ],
      "metadata": {
        "colab": {
          "base_uri": "https://localhost:8080/"
        },
        "id": "g756o8jQYUPI",
        "outputId": "ffe8a8df-71ca-4694-fed3-7dd0e13be683"
      },
      "execution_count": 47,
      "outputs": [
        {
          "output_type": "stream",
          "name": "stdout",
          "text": [
            "tensor([[4., 5.]])\n"
          ]
        }
      ]
    },
    {
      "cell_type": "code",
      "source": [
        "import torch\n",
        "m1 = torch.FloatTensor([[1, 2]])\n",
        "m2 = torch.FloatTensor([[3], [4]])\n",
        "print(m1 + m2)"
      ],
      "metadata": {
        "colab": {
          "base_uri": "https://localhost:8080/"
        },
        "id": "Z0PT2QlCYhkY",
        "outputId": "dda239cc-2b5c-4c12-a22d-36247d03b220"
      },
      "execution_count": 48,
      "outputs": [
        {
          "output_type": "stream",
          "name": "stdout",
          "text": [
            "tensor([[4., 5.],\n",
            "        [5., 6.]])\n"
          ]
        }
      ]
    },
    {
      "cell_type": "code",
      "source": [
        "import torch\n",
        "m1 = torch.FloatTensor([[1, 2], [3, 4]])\n",
        "m2 = torch.FloatTensor([[1], [2]])\n",
        "print('Shape of Matrix 1: ', m1.shape) # 2 x 2\n",
        "print('Shape of Matrix 2: ', m2.shape) # 2 x 1\n",
        "print(m1.matmul(m2)) # 2 x 1"
      ],
      "metadata": {
        "colab": {
          "base_uri": "https://localhost:8080/"
        },
        "id": "JBBqrVl5ZEYp",
        "outputId": "fca65603-c3b1-4a7a-fee6-42747c76ccbc"
      },
      "execution_count": 49,
      "outputs": [
        {
          "output_type": "stream",
          "name": "stdout",
          "text": [
            "Shape of Matrix 1:  torch.Size([2, 2])\n",
            "Shape of Matrix 2:  torch.Size([2, 1])\n",
            "tensor([[ 5.],\n",
            "        [11.]])\n"
          ]
        }
      ]
    },
    {
      "cell_type": "code",
      "source": [
        "import torch\n",
        "m1 = torch.FloatTensor([[1, 2], [3, 4]])\n",
        "m2 = torch.FloatTensor([[1], [2]])\n",
        "print('Shape of Matrix 1: ', m1.shape) # 2 x 2\n",
        "print('Shape of Matrix 2: ', m2.shape) # 2 x 1\n",
        "print(m1 * m2) # 2 x 2\n",
        "print(m1.mul(m2))"
      ],
      "metadata": {
        "colab": {
          "base_uri": "https://localhost:8080/"
        },
        "id": "942UQ0VOcOxA",
        "outputId": "ffb54420-209e-4828-cbd1-f91916eec4ab"
      },
      "execution_count": 50,
      "outputs": [
        {
          "output_type": "stream",
          "name": "stdout",
          "text": [
            "Shape of Matrix 1:  torch.Size([2, 2])\n",
            "Shape of Matrix 2:  torch.Size([2, 1])\n",
            "tensor([[1., 2.],\n",
            "        [6., 8.]])\n",
            "tensor([[1., 2.],\n",
            "        [6., 8.]])\n"
          ]
        }
      ]
    },
    {
      "cell_type": "code",
      "source": [
        "import torch\n",
        "t = torch.FloatTensor([1, 2])\n",
        "print(t.mean())\n",
        "t = torch.FloatTensor([[1, 2], [3, 4]])\n",
        "print(t)\n",
        "print(t.mean())\n",
        "print(t.mean(dim=0, keepdim=True))\n",
        "print(t.mean(dim=1, keepdim=True))\n",
        "print(t.mean(dim=-1))"
      ],
      "metadata": {
        "colab": {
          "base_uri": "https://localhost:8080/"
        },
        "id": "xaYlw3wncu1o",
        "outputId": "43f1c4fe-9f29-4b86-cb58-498b98e6bcf0"
      },
      "execution_count": 51,
      "outputs": [
        {
          "output_type": "stream",
          "name": "stdout",
          "text": [
            "tensor(1.5000)\n",
            "tensor([[1., 2.],\n",
            "        [3., 4.]])\n",
            "tensor(2.5000)\n",
            "tensor([[2., 3.]])\n",
            "tensor([[1.5000],\n",
            "        [3.5000]])\n",
            "tensor([1.5000, 3.5000])\n"
          ]
        }
      ]
    },
    {
      "cell_type": "code",
      "source": [
        "import torch\n",
        "t = torch.FloatTensor([[1, 2], [3, 4]])\n",
        "print(t)\n",
        "print(t.sum())\n",
        "print(t.sum(dim=0))\n",
        "print(t.sum(dim=1))\n",
        "print(t.sum(dim=-1))\n",
        "print(t.max())\n",
        "print(t.max(dim=0))\n",
        "print('Max: ', t.max(dim=0)[0])\n",
        "print('Argmax: ', t.max(dim=0)[1])\n",
        "print(t.max(dim=1))\n",
        "print(t.max(dim=-1))"
      ],
      "metadata": {
        "colab": {
          "base_uri": "https://localhost:8080/"
        },
        "id": "TK5SzFsy9mho",
        "outputId": "d3f1d74f-32d6-43a2-a420-8643dffb1442"
      },
      "execution_count": 52,
      "outputs": [
        {
          "output_type": "stream",
          "name": "stdout",
          "text": [
            "tensor([[1., 2.],\n",
            "        [3., 4.]])\n",
            "tensor(10.)\n",
            "tensor([4., 6.])\n",
            "tensor([3., 7.])\n",
            "tensor([3., 7.])\n",
            "tensor(4.)\n",
            "torch.return_types.max(\n",
            "values=tensor([3., 4.]),\n",
            "indices=tensor([1, 1]))\n",
            "Max:  tensor([3., 4.])\n",
            "Argmax:  tensor([1, 1])\n",
            "torch.return_types.max(\n",
            "values=tensor([2., 4.]),\n",
            "indices=tensor([1, 1]))\n",
            "torch.return_types.max(\n",
            "values=tensor([2., 4.]),\n",
            "indices=tensor([1, 1]))\n"
          ]
        }
      ]
    },
    {
      "cell_type": "markdown",
      "source": [
        "# **5) 뷰(View) - 원소의 수를 유지하면서 텐서의 크기 변경. 매우 중요!!!**"
      ],
      "metadata": {
        "id": "PlgAdbk5XWhB"
      }
    },
    {
      "cell_type": "code",
      "source": [
        "import numpy as np\n",
        "import torch\n",
        "t = np.array([[[0, 1, 2],\n",
        "               [3, 4, 5]],\n",
        "              [[6, 7, 8],\n",
        "               [9, 10, 11]]])\n",
        "ft = torch.FloatTensor(t)\n",
        "print(ft.shape)\n",
        "print(ft.view([-1, 3]))\n",
        "print(ft.view([-1, 3]).shape)\n",
        "print(ft.view([-1, 1, 3]))\n",
        "print(ft.view([-1, 1, 3]).shape)"
      ],
      "metadata": {
        "colab": {
          "base_uri": "https://localhost:8080/"
        },
        "id": "aBdVsm65Vvpy",
        "outputId": "41b6aec7-e4f0-4cde-e4cd-056f948f24d5"
      },
      "execution_count": 53,
      "outputs": [
        {
          "output_type": "stream",
          "name": "stdout",
          "text": [
            "torch.Size([2, 2, 3])\n",
            "tensor([[ 0.,  1.,  2.],\n",
            "        [ 3.,  4.,  5.],\n",
            "        [ 6.,  7.,  8.],\n",
            "        [ 9., 10., 11.]])\n",
            "torch.Size([4, 3])\n",
            "tensor([[[ 0.,  1.,  2.]],\n",
            "\n",
            "        [[ 3.,  4.,  5.]],\n",
            "\n",
            "        [[ 6.,  7.,  8.]],\n",
            "\n",
            "        [[ 9., 10., 11.]]])\n",
            "torch.Size([4, 1, 3])\n"
          ]
        }
      ]
    },
    {
      "cell_type": "markdown",
      "source": [
        "# 스퀴즈, 언스퀴즈 (텐서의 원소 수를 그대로 유지하며 모양과 차원을 조절함.)"
      ],
      "metadata": {
        "id": "-eomvW75v7Lx"
      }
    },
    {
      "cell_type": "code",
      "source": [
        "import torch\n",
        "ft = torch.FloatTensor([[0], [1], [2]])\n",
        "print(ft)\n",
        "print(ft.shape)\n",
        "print(ft.squeeze())\n",
        "print(ft.squeeze().shape)"
      ],
      "metadata": {
        "colab": {
          "base_uri": "https://localhost:8080/"
        },
        "id": "afjMP90ZwEXR",
        "outputId": "49f5df03-bb74-43f3-d3d9-3dafc4eb387d"
      },
      "execution_count": 54,
      "outputs": [
        {
          "output_type": "stream",
          "name": "stdout",
          "text": [
            "tensor([[0.],\n",
            "        [1.],\n",
            "        [2.]])\n",
            "torch.Size([3, 1])\n",
            "tensor([0., 1., 2.])\n",
            "torch.Size([3])\n"
          ]
        }
      ]
    },
    {
      "cell_type": "code",
      "source": [
        "import torch\n",
        "ft = torch.Tensor([0, 1, 2])\n",
        "print(ft.shape)\n",
        "print(ft.unsqueeze(0))\n",
        "print(ft.unsqueeze(0).shape)\n",
        "print(ft.view(1, -1))\n",
        "print(ft.view(1, -1).shape)\n",
        "print(ft.unsqueeze(1))\n",
        "print(ft.unsqueeze(1).shape)\n",
        "print(ft.unsqueeze(-1))\n",
        "print(ft.unsqueeze(-1).shape)"
      ],
      "metadata": {
        "colab": {
          "base_uri": "https://localhost:8080/"
        },
        "id": "lNPC9lrvyAZp",
        "outputId": "0bd5b70f-28bd-4ad3-8374-46ff6902c61c"
      },
      "execution_count": 55,
      "outputs": [
        {
          "output_type": "stream",
          "name": "stdout",
          "text": [
            "torch.Size([3])\n",
            "tensor([[0., 1., 2.]])\n",
            "torch.Size([1, 3])\n",
            "tensor([[0., 1., 2.]])\n",
            "torch.Size([1, 3])\n",
            "tensor([[0.],\n",
            "        [1.],\n",
            "        [2.]])\n",
            "torch.Size([3, 1])\n",
            "tensor([[0.],\n",
            "        [1.],\n",
            "        [2.]])\n",
            "torch.Size([3, 1])\n"
          ]
        }
      ]
    },
    {
      "cell_type": "markdown",
      "source": [
        "# 8) 타입 캐스팅"
      ],
      "metadata": {
        "id": "diNZp5Ja0D5a"
      }
    },
    {
      "cell_type": "code",
      "source": [
        "import torch\n",
        "lt = torch.LongTensor([1, 2, 3, 4])\n",
        "print(lt)\n",
        "print(lt.float())\n",
        "bt = torch.ByteTensor([True, False, False, True])\n",
        "print(bt)\n",
        "print(bt.long())\n",
        "print(bt.float())"
      ],
      "metadata": {
        "id": "HDmXHwEg0LJJ",
        "colab": {
          "base_uri": "https://localhost:8080/"
        },
        "outputId": "7ae0b5ca-082e-42ba-b68a-e9c7238f8eb2"
      },
      "execution_count": 56,
      "outputs": [
        {
          "output_type": "stream",
          "name": "stdout",
          "text": [
            "tensor([1, 2, 3, 4])\n",
            "tensor([1., 2., 3., 4.])\n",
            "tensor([1, 0, 0, 1], dtype=torch.uint8)\n",
            "tensor([1, 0, 0, 1])\n",
            "tensor([1., 0., 0., 1.])\n"
          ]
        }
      ]
    },
    {
      "cell_type": "markdown",
      "source": [
        "# 9) 연결하기, 10) 스택킹"
      ],
      "metadata": {
        "id": "4kmOEM8pfRaI"
      }
    },
    {
      "cell_type": "code",
      "source": [
        "import torch\n",
        "x = torch.FloatTensor([[1, 2], [3, 4]])\n",
        "y = torch.FloatTensor([[5, 6], [7, 8]])\n",
        "print(torch.cat([x, y], dim=0))\n",
        "print(torch.cat([x, y], dim=1))"
      ],
      "metadata": {
        "colab": {
          "base_uri": "https://localhost:8080/"
        },
        "id": "U4dWTMC_fTQv",
        "outputId": "22954c6b-a9eb-4921-8d55-98f14ab38c2d"
      },
      "execution_count": 57,
      "outputs": [
        {
          "output_type": "stream",
          "name": "stdout",
          "text": [
            "tensor([[1., 2.],\n",
            "        [3., 4.],\n",
            "        [5., 6.],\n",
            "        [7., 8.]])\n",
            "tensor([[1., 2., 5., 6.],\n",
            "        [3., 4., 7., 8.]])\n"
          ]
        }
      ]
    },
    {
      "cell_type": "code",
      "source": [
        "import torch\n",
        "x = torch.FloatTensor([1, 4])\n",
        "y = torch.FloatTensor([2, 5])\n",
        "z = torch.FloatTensor([3, 6])\n",
        "print(torch.stack([x, y, z]))\n",
        "print(torch.cat([x.unsqueeze(0), y.unsqueeze(0), z.unsqueeze(0)], dim=0))\n",
        "print(torch.stack([x, y, z], dim=1))"
      ],
      "metadata": {
        "colab": {
          "base_uri": "https://localhost:8080/"
        },
        "id": "ADoWJ9rWin4v",
        "outputId": "e4a56657-0fd1-42f8-e391-fb86dd8450b5"
      },
      "execution_count": 59,
      "outputs": [
        {
          "output_type": "stream",
          "name": "stdout",
          "text": [
            "tensor([[1., 4.],\n",
            "        [2., 5.],\n",
            "        [3., 6.]])\n",
            "tensor([[1., 4.],\n",
            "        [2., 5.],\n",
            "        [3., 6.]])\n",
            "tensor([[1., 2., 3.],\n",
            "        [4., 5., 6.]])\n"
          ]
        }
      ]
    },
    {
      "cell_type": "markdown",
      "source": [
        "# 11) ones_like와 zeros_like - 0으로 채워진 텐서와 1로 채워진 텐서"
      ],
      "metadata": {
        "id": "moKA2D41v9-d"
      }
    },
    {
      "cell_type": "code",
      "source": [
        "import torch\n",
        "x = torch.FloatTensor([[0, 1, 2], [2, 1, 0]])\n",
        "print(x)\n",
        "print(torch.ones_like(x))\n",
        "print(torch.zeros_like(x))"
      ],
      "metadata": {
        "colab": {
          "base_uri": "https://localhost:8080/"
        },
        "id": "qpqzuWeVwB9j",
        "outputId": "885adfa7-5fec-4847-ea2b-cbe28a86239b"
      },
      "execution_count": 62,
      "outputs": [
        {
          "output_type": "stream",
          "name": "stdout",
          "text": [
            "tensor([[0., 1., 2.],\n",
            "        [2., 1., 0.]])\n",
            "tensor([[1., 1., 1.],\n",
            "        [1., 1., 1.]])\n",
            "tensor([[0., 0., 0.],\n",
            "        [0., 0., 0.]])\n"
          ]
        }
      ]
    },
    {
      "cell_type": "markdown",
      "source": [
        "# 12) In-place Operation (덮어쓰기 연산)"
      ],
      "metadata": {
        "id": "7qnowLez4A2p"
      }
    },
    {
      "cell_type": "code",
      "source": [
        "import torch\n",
        "x = torch.FloatTensor([[1, 2], [3, 4]])\n",
        "print(x.mul(2.))\n",
        "print(x)"
      ],
      "metadata": {
        "colab": {
          "base_uri": "https://localhost:8080/"
        },
        "id": "sardWF-Z4Cvw",
        "outputId": "75492a86-136e-4fa3-886e-6812e83b9af4"
      },
      "execution_count": 64,
      "outputs": [
        {
          "output_type": "stream",
          "name": "stdout",
          "text": [
            "tensor([[2., 4.],\n",
            "        [6., 8.]])\n",
            "tensor([[1., 2.],\n",
            "        [3., 4.]])\n"
          ]
        }
      ]
    },
    {
      "cell_type": "markdown",
      "source": [
        "# 02-03 파이썬 클래스"
      ],
      "metadata": {
        "id": "okrkxxncN7ky"
      }
    },
    {
      "cell_type": "code",
      "source": [
        "result = 0\n",
        "def add(num):\n",
        "  global result\n",
        "  result += num\n",
        "  return result\n",
        "print(add(3))\n",
        "print(add(4))"
      ],
      "metadata": {
        "colab": {
          "base_uri": "https://localhost:8080/"
        },
        "id": "24HRzYMrOAGS",
        "outputId": "9e97d7ef-15c2-4111-f0fe-52cb0bd53ba9"
      },
      "execution_count": 66,
      "outputs": [
        {
          "output_type": "stream",
          "name": "stdout",
          "text": [
            "3\n",
            "7\n"
          ]
        }
      ]
    },
    {
      "cell_type": "code",
      "source": [
        "result1 = 0\n",
        "result2 = 0\n",
        "\n",
        "def add1(num):\n",
        "  global result1\n",
        "  result1 += num\n",
        "  return result1\n",
        "\n",
        "def add2(num):\n",
        "  global result2\n",
        "  result2 += num\n",
        "  return result2\n",
        "\n",
        "print(add1(3))\n",
        "print(add1(4))\n",
        "print(add2(3))\n",
        "print(add2(7))"
      ],
      "metadata": {
        "colab": {
          "base_uri": "https://localhost:8080/"
        },
        "id": "DkkNB1TRSKz7",
        "outputId": "622bc753-69ba-4c6d-cde4-36cc7d4f5040"
      },
      "execution_count": 67,
      "outputs": [
        {
          "output_type": "stream",
          "name": "stdout",
          "text": [
            "3\n",
            "7\n",
            "3\n",
            "10\n"
          ]
        }
      ]
    },
    {
      "cell_type": "code",
      "source": [
        "class Calculator:\n",
        "  def __init__(self):\n",
        "    self.result = 0\n",
        "\n",
        "  def add(self, num):\n",
        "    self.result += num\n",
        "    return self.result\n",
        "\n",
        "  def reset(self):\n",
        "    self.result = 0\n",
        "    return self.result\n",
        "\n",
        "cal1 = Calculator()\n",
        "cal2 = Calculator()\n",
        "\n",
        "print(cal1.add(3))\n",
        "print(cal1.add(7))\n",
        "print(cal2.add(8))\n",
        "print(cal2.add(12))\n",
        "cal1.result = 0\n",
        "print(cal1.result)\n",
        "print(cal1.add(20))\n",
        "print(cal1.reset())\n",
        "print(cal2.reset())\n",
        "print(cal1.add(15))\n",
        "print(cal2.add(35))"
      ],
      "metadata": {
        "colab": {
          "base_uri": "https://localhost:8080/"
        },
        "id": "nAoqcTSFTAow",
        "outputId": "2d2ea5db-7006-4ce3-8499-d919b09d322e"
      },
      "execution_count": 13,
      "outputs": [
        {
          "output_type": "stream",
          "name": "stdout",
          "text": [
            "3\n",
            "10\n",
            "8\n",
            "20\n",
            "0\n",
            "20\n",
            "0\n",
            "0\n",
            "15\n",
            "35\n"
          ]
        }
      ]
    }
  ]
}